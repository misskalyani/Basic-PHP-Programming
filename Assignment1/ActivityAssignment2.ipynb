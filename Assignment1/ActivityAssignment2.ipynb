{
 "cells": [
  {
   "cell_type": "code",
   "execution_count": 1,
   "id": "6474c516-4209-4148-9296-f01f312ab3e9",
   "metadata": {},
   "outputs": [],
   "source": [
    "import pandas as pd\n",
    "from mlxtend.frequent_patterns import apriori, association_rules"
   ]
  },
  {
   "cell_type": "code",
   "execution_count": 2,
   "id": "28453d0d-cec6-47f7-a4ed-fec0c3c64abf",
   "metadata": {},
   "outputs": [],
   "source": [
    "transactions = [['eggs', 'milk','bread'],\n",
    " ['eggs', 'apple'],\n",
    " ['milk', 'bread'],\n",
    " ['apple', 'milk'],\n",
    " ['milk', 'apple', 'bread']]\n"
   ]
  },
  {
   "cell_type": "code",
   "execution_count": 3,
   "id": "57573fee-1805-43e4-9cc5-edf91280c23f",
   "metadata": {},
   "outputs": [
    {
     "data": {
      "text/html": [
       "<div>\n",
       "<style scoped>\n",
       "    .dataframe tbody tr th:only-of-type {\n",
       "        vertical-align: middle;\n",
       "    }\n",
       "\n",
       "    .dataframe tbody tr th {\n",
       "        vertical-align: top;\n",
       "    }\n",
       "\n",
       "    .dataframe thead th {\n",
       "        text-align: right;\n",
       "    }\n",
       "</style>\n",
       "<table border=\"1\" class=\"dataframe\">\n",
       "  <thead>\n",
       "    <tr style=\"text-align: right;\">\n",
       "      <th></th>\n",
       "      <th>apple</th>\n",
       "      <th>bread</th>\n",
       "      <th>eggs</th>\n",
       "      <th>milk</th>\n",
       "    </tr>\n",
       "  </thead>\n",
       "  <tbody>\n",
       "    <tr>\n",
       "      <th>0</th>\n",
       "      <td>False</td>\n",
       "      <td>True</td>\n",
       "      <td>True</td>\n",
       "      <td>True</td>\n",
       "    </tr>\n",
       "    <tr>\n",
       "      <th>1</th>\n",
       "      <td>True</td>\n",
       "      <td>False</td>\n",
       "      <td>True</td>\n",
       "      <td>False</td>\n",
       "    </tr>\n",
       "    <tr>\n",
       "      <th>2</th>\n",
       "      <td>False</td>\n",
       "      <td>True</td>\n",
       "      <td>False</td>\n",
       "      <td>True</td>\n",
       "    </tr>\n",
       "    <tr>\n",
       "      <th>3</th>\n",
       "      <td>True</td>\n",
       "      <td>False</td>\n",
       "      <td>False</td>\n",
       "      <td>True</td>\n",
       "    </tr>\n",
       "    <tr>\n",
       "      <th>4</th>\n",
       "      <td>True</td>\n",
       "      <td>True</td>\n",
       "      <td>False</td>\n",
       "      <td>True</td>\n",
       "    </tr>\n",
       "  </tbody>\n",
       "</table>\n",
       "</div>"
      ],
      "text/plain": [
       "   apple  bread   eggs   milk\n",
       "0  False   True   True   True\n",
       "1   True  False   True  False\n",
       "2  False   True  False   True\n",
       "3   True  False  False   True\n",
       "4   True   True  False   True"
      ]
     },
     "execution_count": 3,
     "metadata": {},
     "output_type": "execute_result"
    }
   ],
   "source": [
    "from mlxtend.preprocessing import TransactionEncoder\n",
    "te=TransactionEncoder()\n",
    "te_array=te.fit(transactions).transform(transactions)\n",
    "df=pd.DataFrame(te_array, columns=te.columns_)\n",
    "df"
   ]
  },
  {
   "cell_type": "code",
   "execution_count": 4,
   "id": "671e9740-6aeb-4720-980d-5a417aaa2f3b",
   "metadata": {},
   "outputs": [
    {
     "name": "stdout",
     "output_type": "stream",
     "text": [
      "   support       itemsets\n",
      "0      0.6        (apple)\n",
      "1      0.6        (bread)\n",
      "2      0.8         (milk)\n",
      "3      0.6  (milk, bread)\n"
     ]
    }
   ],
   "source": [
    "freq_items = apriori(df, min_support = 0.5, use_colnames = True)\n",
    "print(freq_items)"
   ]
  },
  {
   "cell_type": "code",
   "execution_count": 8,
   "id": "e8e76c70-6a6b-4a6a-8507-e0c9a11239aa",
   "metadata": {},
   "outputs": [
    {
     "name": "stdout",
     "output_type": "stream",
     "text": [
      "  antecedents consequents  antecedent support  consequent support  support  \\\n",
      "1     (bread)      (milk)                 0.6                 0.8      0.6   \n",
      "0      (milk)     (bread)                 0.8                 0.6      0.6   \n",
      "\n",
      "   confidence  lift  representativity  leverage  conviction  zhangs_metric  \\\n",
      "1        1.00  1.25               1.0      0.12         inf            0.5   \n",
      "0        0.75  1.25               1.0      0.12         1.6            1.0   \n",
      "\n",
      "   jaccard  certainty  kulczynski  \n",
      "1     0.75      1.000       0.875  \n",
      "0     0.75      0.375       0.875  \n"
     ]
    }
   ],
   "source": [
    "rules = association_rules(freq_items,'num_itemsets',metric ='support', min_threshold=0.05)\n",
    "rules = rules.sort_values(['support', 'confidence'], ascending =[False,False])\n",
    "print(rules)"
   ]
  },
  {
   "cell_type": "code",
   "execution_count": null,
   "id": "eb170091-e39f-4cfc-90b3-88970cc17064",
   "metadata": {},
   "outputs": [],
   "source": []
  }
 ],
 "metadata": {
  "kernelspec": {
   "display_name": "Python 3 (ipykernel)",
   "language": "python",
   "name": "python3"
  },
  "language_info": {
   "codemirror_mode": {
    "name": "ipython",
    "version": 3
   },
   "file_extension": ".py",
   "mimetype": "text/x-python",
   "name": "python",
   "nbconvert_exporter": "python",
   "pygments_lexer": "ipython3",
   "version": "3.12.4"
  }
 },
 "nbformat": 4,
 "nbformat_minor": 5
}
